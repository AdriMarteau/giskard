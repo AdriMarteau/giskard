{
 "cells": [
  {
   "cell_type": "code",
   "execution_count": 1,
   "metadata": {
    "collapsed": true,
    "ExecuteTime": {
     "end_time": "2023-06-23T06:27:01.213220Z",
     "start_time": "2023-06-23T06:26:30.053173Z"
    }
   },
   "outputs": [
    {
     "name": "stderr",
     "output_type": "stream",
     "text": [
      "/Users/kevinmessiaen/work/giskard/python-client/giskard/ml_worker/utils/network.py:54: UserWarning: You're using a pre-release version of giskard while a new version is available, please install it with: pip install \"giskard==2.0.0b10\"\n",
      "  warning(\n"
     ]
    },
    {
     "name": "stdout",
     "output_type": "stream",
     "text": [
      "Your model is successfully validated.\n",
      "🔎 Running scan…\n",
      "2023-06-23 13:26:37,062 pid:7224 MainThread giskard.scanner.logger INFO     Running detectors: ['PerformanceBiasDetector', 'TextPerturbationDetector', 'EthicalBiasDetector', 'DataLeakageDetector', 'StochasticityDetector', 'OverconfidenceDetector', 'UnderconfidenceDetector', 'SpuriousCorrelationDetector']\n",
      "Running detector PerformanceBiasDetector…2023-06-23 13:26:37,062 pid:7224 MainThread giskard.scanner.logger INFO     PerformanceBiasDetector: Running\n",
      "2023-06-23 13:26:37,062 pid:7224 MainThread giskard.scanner.logger INFO     PerformanceBiasDetector: Calculating loss\n",
      "2023-06-23 13:26:37,158 pid:7224 MainThread giskard.scanner.logger INFO     PerformanceBiasDetector: Loss calculated (took 0:00:00.094973)\n",
      "2023-06-23 13:26:37,158 pid:7224 MainThread giskard.scanner.logger INFO     PerformanceBiasDetector: Finding data slices\n"
     ]
    },
    {
     "name": "stderr",
     "output_type": "stream",
     "text": [
      "/Users/kevinmessiaen/work/giskard/python-client/.venv/lib/python3.10/site-packages/_distutils_hack/__init__.py:33: UserWarning: Setuptools is replacing distutils.\n",
      "  warnings.warn(\"Setuptools is replacing distutils.\")\n"
     ]
    },
    {
     "name": "stdout",
     "output_type": "stream",
     "text": [
      "2023-06-23 13:26:39,890 pid:7224 MainThread giskard.scanner.logger INFO     PerformanceBiasDetector: 15 slices found (took 0:00:02.730436)\n",
      "2023-06-23 13:26:39,890 pid:7224 MainThread giskard.scanner.logger INFO     PerformanceBiasDetector: Analyzing issues\n",
      "2023-06-23 13:26:39,897 pid:7224 MainThread giskard.scanner.logger INFO     PerformanceBiasDetector: Testing 15 slices for performance issues.\n",
      "2023-06-23 13:26:39,903 pid:7224 MainThread giskard.scanner.logger INFO     PerformanceBiasDetector: Testing slice `Sex` == \"female\"\tPrecision = 0.763 (global 0.753) Δm = 0.012\tis_issue = False\n",
      "2023-06-23 13:26:39,906 pid:7224 MainThread giskard.scanner.logger INFO     PerformanceBiasDetector: Skipping slice `Sex` == \"male\" because metric was estimated on < 20 samples.\n",
      "2023-06-23 13:26:39,911 pid:7224 MainThread giskard.scanner.logger INFO     PerformanceBiasDetector: Testing slice `Embarked` == \"S\"\tPrecision = 0.717 (global 0.753) Δm = -0.048\tis_issue = False\n",
      "2023-06-23 13:26:39,914 pid:7224 MainThread giskard.scanner.logger INFO     PerformanceBiasDetector: Testing slice `Embarked` == \"Q\"\tPrecision = 0.714 (global 0.753) Δm = -0.052\tis_issue = True\n",
      "2023-06-23 13:26:39,918 pid:7224 MainThread giskard.scanner.logger INFO     PerformanceBiasDetector: Testing slice `Embarked` == \"C\"\tPrecision = 0.861 (global 0.753) Δm = 0.143\tis_issue = False\n",
      "2023-06-23 13:26:39,921 pid:7224 MainThread giskard.scanner.logger INFO     PerformanceBiasDetector: Testing slice `Pclass` == 2\tPrecision = 1.000 (global 0.753) Δm = 0.327\tis_issue = False\n",
      "2023-06-23 13:26:39,923 pid:7224 MainThread giskard.scanner.logger INFO     PerformanceBiasDetector: Testing slice `Pclass` == 1\tPrecision = 0.896 (global 0.753) Δm = 0.189\tis_issue = False\n",
      "2023-06-23 13:26:39,927 pid:7224 MainThread giskard.scanner.logger INFO     PerformanceBiasDetector: Testing slice `Pclass` == 3\tPrecision = 0.475 (global 0.753) Δm = -0.369\tis_issue = True\n",
      "2023-06-23 13:26:40,191 pid:7224 MainThread giskard.scanner.logger INFO     PerformanceBiasDetector: Testing slice `charset(Name)` == \"ascii\"\tPrecision = 0.753 (global 0.753) Δm = 0.000\tis_issue = False\n",
      "2023-06-23 13:26:40,452 pid:7224 MainThread giskard.scanner.logger INFO     PerformanceBiasDetector: Testing slice `avg_digits(Name)` == 0.000e+00\tPrecision = 0.753 (global 0.753) Δm = 0.000\tis_issue = False\n",
      "2023-06-23 13:26:40,455 pid:7224 MainThread giskard.scanner.logger INFO     PerformanceBiasDetector: Skipping slice `Name` contains \"master\" because metric was estimated on < 20 samples.\n",
      "2023-06-23 13:26:40,458 pid:7224 MainThread giskard.scanner.logger INFO     PerformanceBiasDetector: Testing slice `Name` contains \"miss\"\tPrecision = 0.723 (global 0.753) Δm = -0.040\tis_issue = False\n",
      "2023-06-23 13:26:40,462 pid:7224 MainThread giskard.scanner.logger INFO     PerformanceBiasDetector: Testing slice `Name` contains \"mrs\"\tPrecision = 0.837 (global 0.753) Δm = 0.111\tis_issue = False\n",
      "2023-06-23 13:26:40,465 pid:7224 MainThread giskard.scanner.logger INFO     PerformanceBiasDetector: Skipping slice `Name` contains \"william\" because metric was estimated on < 20 samples.\n",
      "2023-06-23 13:26:40,470 pid:7224 MainThread giskard.scanner.logger INFO     PerformanceBiasDetector: Skipping slice `Name` contains \"mr\" because metric was estimated on < 20 samples.\n",
      "2023-06-23 13:26:40,477 pid:7224 MainThread giskard.scanner.logger INFO     PerformanceBiasDetector: Testing slice `Sex` == \"female\"\tRecall = 0.981 (global 0.661) Δm = 0.485\tis_issue = False\n",
      "2023-06-23 13:26:40,482 pid:7224 MainThread giskard.scanner.logger INFO     PerformanceBiasDetector: Testing slice `Sex` == \"male\"\tRecall = 0.111 (global 0.661) Δm = -0.832\tis_issue = True\n",
      "2023-06-23 13:26:40,486 pid:7224 MainThread giskard.scanner.logger INFO     PerformanceBiasDetector: Testing slice `Embarked` == \"S\"\tRecall = 0.611 (global 0.661) Δm = -0.075\tis_issue = True\n",
      "2023-06-23 13:26:40,490 pid:7224 MainThread giskard.scanner.logger INFO     PerformanceBiasDetector: Skipping slice `Embarked` == \"Q\" because metric was estimated on < 20 samples.\n",
      "2023-06-23 13:26:40,493 pid:7224 MainThread giskard.scanner.logger INFO     PerformanceBiasDetector: Testing slice `Embarked` == \"C\"\tRecall = 0.689 (global 0.661) Δm = 0.042\tis_issue = False\n",
      "2023-06-23 13:26:40,498 pid:7224 MainThread giskard.scanner.logger INFO     PerformanceBiasDetector: Testing slice `Pclass` == 2\tRecall = 0.872 (global 0.661) Δm = 0.320\tis_issue = False\n",
      "2023-06-23 13:26:40,501 pid:7224 MainThread giskard.scanner.logger INFO     PerformanceBiasDetector: Testing slice `Pclass` == 1\tRecall = 0.652 (global 0.661) Δm = -0.014\tis_issue = False\n",
      "2023-06-23 13:26:40,505 pid:7224 MainThread giskard.scanner.logger INFO     PerformanceBiasDetector: Testing slice `Pclass` == 3\tRecall = 0.500 (global 0.661) Δm = -0.243\tis_issue = True\n",
      "2023-06-23 13:26:40,771 pid:7224 MainThread giskard.scanner.logger INFO     PerformanceBiasDetector: Testing slice `charset(Name)` == \"ascii\"\tRecall = 0.661 (global 0.661) Δm = 0.000\tis_issue = False\n",
      "2023-06-23 13:26:41,035 pid:7224 MainThread giskard.scanner.logger INFO     PerformanceBiasDetector: Testing slice `avg_digits(Name)` == 0.000e+00\tRecall = 0.661 (global 0.661) Δm = 0.000\tis_issue = False\n",
      "2023-06-23 13:26:41,038 pid:7224 MainThread giskard.scanner.logger INFO     PerformanceBiasDetector: Skipping slice `Name` contains \"master\" because metric was estimated on < 20 samples.\n",
      "2023-06-23 13:26:41,042 pid:7224 MainThread giskard.scanner.logger INFO     PerformanceBiasDetector: Testing slice `Name` contains \"miss\"\tRecall = 1.000 (global 0.661) Δm = 0.513\tis_issue = False\n",
      "2023-06-23 13:26:41,045 pid:7224 MainThread giskard.scanner.logger INFO     PerformanceBiasDetector: Testing slice `Name` contains \"mrs\"\tRecall = 0.947 (global 0.661) Δm = 0.434\tis_issue = False\n",
      "2023-06-23 13:26:41,048 pid:7224 MainThread giskard.scanner.logger INFO     PerformanceBiasDetector: Skipping slice `Name` contains \"william\" because metric was estimated on < 20 samples.\n",
      "2023-06-23 13:26:41,052 pid:7224 MainThread giskard.scanner.logger INFO     PerformanceBiasDetector: Testing slice `Name` contains \"mr\"\tRecall = 0.021 (global 0.661) Δm = -0.968\tis_issue = True\n",
      "2023-06-23 13:26:41,056 pid:7224 MainThread giskard.scanner.logger INFO     PerformanceBiasDetector: Testing slice `Sex` == \"female\"\tAccuracy = 0.767 (global 0.787) Δm = -0.026\tis_issue = False\n",
      "2023-06-23 13:26:41,059 pid:7224 MainThread giskard.scanner.logger INFO     PerformanceBiasDetector: Testing slice `Sex` == \"male\"\tAccuracy = 0.797 (global 0.787) Δm = 0.013\tis_issue = False\n",
      "2023-06-23 13:26:41,062 pid:7224 MainThread giskard.scanner.logger INFO     PerformanceBiasDetector: Testing slice `Embarked` == \"S\"\tAccuracy = 0.785 (global 0.787) Δm = -0.002\tis_issue = False\n",
      "2023-06-23 13:26:41,065 pid:7224 MainThread giskard.scanner.logger INFO     PerformanceBiasDetector: Testing slice `Embarked` == \"Q\"\tAccuracy = 0.833 (global 0.787) Δm = 0.059\tis_issue = False\n",
      "2023-06-23 13:26:41,068 pid:7224 MainThread giskard.scanner.logger INFO     PerformanceBiasDetector: Testing slice `Embarked` == \"C\"\tAccuracy = 0.762 (global 0.787) Δm = -0.031\tis_issue = False\n",
      "2023-06-23 13:26:41,070 pid:7224 MainThread giskard.scanner.logger INFO     PerformanceBiasDetector: Testing slice `Pclass` == 2\tAccuracy = 0.936 (global 0.787) Δm = 0.190\tis_issue = False\n",
      "2023-06-23 13:26:41,073 pid:7224 MainThread giskard.scanner.logger INFO     PerformanceBiasDetector: Testing slice `Pclass` == 1\tAccuracy = 0.733 (global 0.787) Δm = -0.068\tis_issue = True\n",
      "2023-06-23 13:26:41,078 pid:7224 MainThread giskard.scanner.logger INFO     PerformanceBiasDetector: Testing slice `Pclass` == 3\tAccuracy = 0.753 (global 0.787) Δm = -0.043\tis_issue = False\n",
      "2023-06-23 13:26:41,343 pid:7224 MainThread giskard.scanner.logger INFO     PerformanceBiasDetector: Testing slice `charset(Name)` == \"ascii\"\tAccuracy = 0.787 (global 0.787) Δm = 0.000\tis_issue = False\n",
      "2023-06-23 13:26:41,605 pid:7224 MainThread giskard.scanner.logger INFO     PerformanceBiasDetector: Testing slice `avg_digits(Name)` == 0.000e+00\tAccuracy = 0.787 (global 0.787) Δm = 0.000\tis_issue = False\n",
      "2023-06-23 13:26:41,608 pid:7224 MainThread giskard.scanner.logger INFO     PerformanceBiasDetector: Testing slice `Name` contains \"master\"\tAccuracy = 0.708 (global 0.787) Δm = -0.100\tis_issue = True\n",
      "2023-06-23 13:26:41,611 pid:7224 MainThread giskard.scanner.logger INFO     PerformanceBiasDetector: Testing slice `Name` contains \"miss\"\tAccuracy = 0.737 (global 0.787) Δm = -0.063\tis_issue = True\n",
      "2023-06-23 13:26:41,614 pid:7224 MainThread giskard.scanner.logger INFO     PerformanceBiasDetector: Testing slice `Name` contains \"mrs\"\tAccuracy = 0.816 (global 0.787) Δm = 0.037\tis_issue = False\n",
      "2023-06-23 13:26:41,618 pid:7224 MainThread giskard.scanner.logger INFO     PerformanceBiasDetector: Testing slice `Name` contains \"william\"\tAccuracy = 0.812 (global 0.787) Δm = 0.032\tis_issue = False\n",
      "2023-06-23 13:26:41,621 pid:7224 MainThread giskard.scanner.logger INFO     PerformanceBiasDetector: Testing slice `Name` contains \"mr\"\tAccuracy = 0.811 (global 0.787) Δm = 0.030\tis_issue = False\n",
      "2023-06-23 13:26:41,622 pid:7224 MainThread giskard.scanner.logger INFO     PerformanceBiasDetector: 8 issues found (took 0:00:01.731274)\n",
      " 8 issues detected. (Took 0:00:04.559986)\n",
      "Running detector TextPerturbationDetector…2023-06-23 13:26:41,623 pid:7224 MainThread giskard.scanner.logger INFO     TextPerturbationDetector: Running with transformations=['Transform to uppercase', 'Transform to lowercase', 'Transform to title case', 'Add typos', 'Punctuation Removal'] threshold=None output_sensitivity=None num_samples=None\n",
      "2023-06-23 13:26:41,653 pid:7224 MainThread giskard.scanner.logger INFO     TextPerturbationDetector: Testing `Name` for perturbation `Transform to uppercase`\tFail rate: 0.029\n",
      "2023-06-23 13:26:41,680 pid:7224 MainThread giskard.scanner.logger INFO     TextPerturbationDetector: Testing `Name` for perturbation `Transform to lowercase`\tFail rate: 0.027\n",
      "2023-06-23 13:26:41,698 pid:7224 MainThread giskard.scanner.logger INFO     TextPerturbationDetector: Testing `Name` for perturbation `Transform to title case`\tFail rate: 0.067\n",
      "2023-06-23 13:26:41,726 pid:7224 MainThread giskard.scanner.logger INFO     TextPerturbationDetector: Testing `Name` for perturbation `Add typos`\tFail rate: 0.013\n",
      "2023-06-23 13:26:41,801 pid:7224 MainThread giskard.scanner.logger INFO     TextPerturbationDetector: Testing `Name` for perturbation `Punctuation Removal`\tFail rate: 0.000\n",
      " 1 issues detected. (Took 0:00:00.179805)\n",
      "Running detector EthicalBiasDetector…2023-06-23 13:26:41,803 pid:7224 MainThread giskard.scanner.logger INFO     EthicalBiasDetector: Running with transformations=['Switch Gender', 'Switch Religion', 'Switch countries from high- to low-income and vice versa'] threshold=None output_sensitivity=None num_samples=None\n",
      "2023-06-23 13:26:42,096 pid:7224 MainThread giskard.scanner.logger INFO     EthicalBiasDetector: Testing `Name` for perturbation `Switch Gender`\tFail rate: 0.000\n",
      "2023-06-23 13:26:42,386 pid:7224 MainThread giskard.scanner.logger INFO     EthicalBiasDetector: Testing `Name` for perturbation `Switch Religion`\tFail rate: 0.000\n",
      " 0 issues detected. (Took 0:00:00.902513)\n",
      "Running detector DataLeakageDetector…2023-06-23 13:26:42,707 pid:7224 MainThread giskard.scanner.logger INFO     DataLeakageDetector: Running\n",
      " 0 issues detected. (Took 0:00:00.669543)\n",
      "Running detector StochasticityDetector…2023-06-23 13:26:43,377 pid:7224 MainThread giskard.scanner.logger INFO     StochasticityDetector: Running\n",
      " 0 issues detected. (Took 0:00:00.021181)\n",
      "Running detector OverconfidenceDetector…2023-06-23 13:26:43,400 pid:7224 MainThread giskard.scanner.logger INFO     OverconfidenceDetector: Running\n",
      "2023-06-23 13:26:43,401 pid:7224 MainThread giskard.scanner.logger INFO     OverconfidenceDetector: Calculating loss\n",
      "2023-06-23 13:26:43,409 pid:7224 MainThread giskard.scanner.logger INFO     OverconfidenceDetector: Loss calculated (took 0:00:00.007300)\n",
      "2023-06-23 13:26:43,413 pid:7224 MainThread giskard.scanner.logger INFO     OverconfidenceDetector: Finding data slices\n",
      "2023-06-23 13:26:45,150 pid:7224 MainThread giskard.scanner.logger INFO     OverconfidenceDetector: 23 slices found (took 0:00:01.735095)\n",
      "2023-06-23 13:26:45,152 pid:7224 MainThread giskard.scanner.logger INFO     OverconfidenceDetector: Analyzing issues\n",
      "2023-06-23 13:26:45,159 pid:7224 MainThread giskard.scanner.logger INFO     OverconfidenceDetector: Using overconfidence threshold = 0.5\n",
      "2023-06-23 13:26:47,576 pid:7224 MainThread giskard.scanner.logger INFO     OverconfidenceDetector: 10 issues found (took 0:00:02.422007)\n",
      " 10 issues detected. (Took 0:00:04.178588)\n",
      "Running detector UnderconfidenceDetector…2023-06-23 13:26:47,580 pid:7224 MainThread giskard.scanner.logger INFO     UnderconfidenceDetector: Running\n",
      "2023-06-23 13:26:47,581 pid:7224 MainThread giskard.scanner.logger INFO     UnderconfidenceDetector: Calculating loss\n",
      "2023-06-23 13:26:47,594 pid:7224 MainThread giskard.scanner.logger INFO     UnderconfidenceDetector: Loss calculated (took 0:00:00.010345)\n",
      "2023-06-23 13:26:47,596 pid:7224 MainThread giskard.scanner.logger INFO     UnderconfidenceDetector: Finding data slices\n",
      "2023-06-23 13:26:53,732 pid:7224 MainThread giskard.scanner.logger INFO     UnderconfidenceDetector: 31 slices found (took 0:00:06.135020)\n",
      "2023-06-23 13:26:53,733 pid:7224 MainThread giskard.scanner.logger INFO     UnderconfidenceDetector: Analyzing issues\n",
      "2023-06-23 13:26:56,878 pid:7224 MainThread giskard.scanner.logger INFO     UnderconfidenceDetector: 0 issues found (took 0:00:03.143878)\n",
      " 0 issues detected. (Took 0:00:09.299767)\n",
      "Running detector SpuriousCorrelationDetector…2023-06-23 13:26:56,880 pid:7224 MainThread giskard.scanner.logger INFO     SpuriousCorrelationDetector: Running\n",
      "2023-06-23 13:26:58,412 pid:7224 MainThread giskard.scanner.logger INFO     SpuriousCorrelationDetector: `Age` < 15.500\tAssociation = 0.038\n",
      "2023-06-23 13:26:58,423 pid:7224 MainThread giskard.scanner.logger INFO     SpuriousCorrelationDetector: `Age` >= 15.500 AND `Age` < 44.500\tAssociation = 0.002\n",
      "2023-06-23 13:26:58,431 pid:7224 MainThread giskard.scanner.logger INFO     SpuriousCorrelationDetector: `Age` >= 44.500\tAssociation = 0.021\n",
      "2023-06-23 13:26:58,440 pid:7224 MainThread giskard.scanner.logger INFO     SpuriousCorrelationDetector: `Parch` < 0.500\tAssociation = 0.049\n",
      "2023-06-23 13:26:58,449 pid:7224 MainThread giskard.scanner.logger INFO     SpuriousCorrelationDetector: `Parch` >= 0.500\tAssociation = 0.049\n",
      "2023-06-23 13:26:58,459 pid:7224 MainThread giskard.scanner.logger INFO     SpuriousCorrelationDetector: `Fare` >= 79.425\tAssociation = 0.059\n",
      "2023-06-23 13:26:58,469 pid:7224 MainThread giskard.scanner.logger INFO     SpuriousCorrelationDetector: `Fare` < 9.544\tAssociation = 0.059\n",
      "2023-06-23 13:26:58,478 pid:7224 MainThread giskard.scanner.logger INFO     SpuriousCorrelationDetector: `Fare` < 79.425 AND `Fare` >= 9.544\tAssociation = 0.007\n",
      "2023-06-23 13:26:58,487 pid:7224 MainThread giskard.scanner.logger INFO     SpuriousCorrelationDetector: `SibSp` < 0.500\tAssociation = 0.009\n",
      "2023-06-23 13:26:58,496 pid:7224 MainThread giskard.scanner.logger INFO     SpuriousCorrelationDetector: `SibSp` >= 0.500\tAssociation = 0.009\n",
      "2023-06-23 13:26:58,501 pid:7224 MainThread giskard.scanner.logger INFO     SpuriousCorrelationDetector: `Sex` == \"female\"\tAssociation = 0.697\n",
      "2023-06-23 13:26:58,510 pid:7224 MainThread giskard.scanner.logger INFO     SpuriousCorrelationDetector: `Sex` == \"male\"\tAssociation = 0.697\n",
      "2023-06-23 13:26:58,522 pid:7224 MainThread giskard.scanner.logger INFO     SpuriousCorrelationDetector: `Embarked` == \"S\"\tAssociation = 0.018\n",
      "2023-06-23 13:26:58,532 pid:7224 MainThread giskard.scanner.logger INFO     SpuriousCorrelationDetector: `Embarked` == \"Q\"\tAssociation = 0.004\n",
      "2023-06-23 13:26:58,540 pid:7224 MainThread giskard.scanner.logger INFO     SpuriousCorrelationDetector: `Embarked` == \"C\"\tAssociation = 0.010\n",
      "2023-06-23 13:26:58,552 pid:7224 MainThread giskard.scanner.logger INFO     SpuriousCorrelationDetector: `Pclass` == 2\tAssociation = 0.009\n",
      "2023-06-23 13:26:58,561 pid:7224 MainThread giskard.scanner.logger INFO     SpuriousCorrelationDetector: `Pclass` == 1\tAssociation = 0.015\n",
      "2023-06-23 13:26:58,570 pid:7224 MainThread giskard.scanner.logger INFO     SpuriousCorrelationDetector: `Pclass` == 3\tAssociation = 0.035\n",
      "2023-06-23 13:26:58,580 pid:7224 MainThread giskard.scanner.logger INFO     SpuriousCorrelationDetector: `text_length(Name)` < 18.500\tAssociation = 0.046\n",
      "2023-06-23 13:26:58,588 pid:7224 MainThread giskard.scanner.logger INFO     SpuriousCorrelationDetector: `text_length(Name)` < 19.500 AND `text_length(Name)` >= 18.500\tAssociation = 0.003\n",
      "2023-06-23 13:26:58,600 pid:7224 MainThread giskard.scanner.logger INFO     SpuriousCorrelationDetector: `text_length(Name)` < 31.500 AND `text_length(Name)` >= 27.500\tAssociation = 0.001\n",
      "2023-06-23 13:26:58,612 pid:7224 MainThread giskard.scanner.logger INFO     SpuriousCorrelationDetector: `text_length(Name)` < 25.500 AND `text_length(Name)` >= 19.500\tAssociation = 0.001\n",
      "2023-06-23 13:26:58,623 pid:7224 MainThread giskard.scanner.logger INFO     SpuriousCorrelationDetector: `text_length(Name)` < 27.500 AND `text_length(Name)` >= 25.500\tAssociation = 0.024\n",
      "2023-06-23 13:26:58,635 pid:7224 MainThread giskard.scanner.logger INFO     SpuriousCorrelationDetector: `text_length(Name)` >= 31.500 AND `text_length(Name)` < 39.500\tAssociation = 0.023\n",
      "2023-06-23 13:26:58,641 pid:7224 MainThread giskard.scanner.logger INFO     SpuriousCorrelationDetector: `text_length(Name)` >= 39.500\tAssociation = 0.049\n",
      "2023-06-23 13:26:58,652 pid:7224 MainThread giskard.scanner.logger INFO     SpuriousCorrelationDetector: `avg_word_length(Name)` < 5.464\tAssociation = 0.061\n",
      "2023-06-23 13:26:58,661 pid:7224 MainThread giskard.scanner.logger INFO     SpuriousCorrelationDetector: `avg_word_length(Name)` >= 5.464\tAssociation = 0.061\n",
      "2023-06-23 13:26:58,669 pid:7224 MainThread giskard.scanner.logger INFO     SpuriousCorrelationDetector: `avg_whitespace(Name)` < 0.109\tAssociation = 0.024\n",
      "2023-06-23 13:26:58,675 pid:7224 MainThread giskard.scanner.logger INFO     SpuriousCorrelationDetector: `avg_whitespace(Name)` >= 0.109\tAssociation = 0.024\n",
      "2023-06-23 13:26:58,684 pid:7224 MainThread giskard.scanner.logger INFO     SpuriousCorrelationDetector: `charset(Name)` == \"ascii\"\tAssociation = 0.000\n",
      "2023-06-23 13:26:58,693 pid:7224 MainThread giskard.scanner.logger INFO     SpuriousCorrelationDetector: `avg_digits(Name)` == 0.000e+00\tAssociation = 0.000\n",
      "2023-06-23 13:26:59,106 pid:7224 MainThread giskard.scanner.logger INFO     SpuriousCorrelationDetector: `Name` contains \"master\"\tAssociation = 0.002\n",
      "2023-06-23 13:27:00,597 pid:7224 MainThread giskard.scanner.logger INFO     SpuriousCorrelationDetector: `Name` contains \"miss\"\tAssociation = 0.392\n",
      "2023-06-23 13:27:00,668 pid:7224 MainThread giskard.scanner.logger INFO     SpuriousCorrelationDetector: `Name` contains \"mrs\"\tAssociation = 0.124\n",
      "2023-06-23 13:27:00,768 pid:7224 MainThread giskard.scanner.logger INFO     SpuriousCorrelationDetector: `Name` contains \"william\"\tAssociation = 0.001\n",
      "2023-06-23 13:27:00,947 pid:7224 MainThread giskard.scanner.logger INFO     SpuriousCorrelationDetector: `Name` contains \"mr\"\tAssociation = 0.609\n",
      " 3 issues detected. (Took 0:00:04.317847)\n",
      "Scan completed: 22 issues found. (Took 0:00:24.137978)\n"
     ]
    }
   ],
   "source": [
    "import giskard\n",
    "from giskard.demo import titanic\n",
    "\n",
    "# Replace this with your own data & model creation.\n",
    "model, df = titanic()\n",
    "\n",
    "# Wrap your Pandas DataFrame with Giskard.Dataset, containing examples such as:\n",
    "# your test set, a golden dataset, etc.\n",
    "giskard_dataset = giskard.Dataset(df=df, target=\"Survived\", name=\"Titanic dataset\")\n",
    "\n",
    "# Wrap your model with Giskard.Model:\n",
    "# you can use any tabular, text or LLM models (PyTorch, HuggingFace, LangChain, etc.),\n",
    "# for classification, regression & text generation.\n",
    "giskard_model = giskard.Model(model=model, model_type=\"classification\", name=\"Titanic model\")\n",
    "\n",
    "# Then apply the scan\n",
    "results = giskard.scan(giskard_model, giskard_dataset)\n"
   ]
  },
  {
   "cell_type": "code",
   "execution_count": null,
   "outputs": [],
   "source": [
    "display(results)  # in your notebook\n"
   ],
   "metadata": {
    "collapsed": false
   }
  },
  {
   "cell_type": "code",
   "execution_count": 2,
   "outputs": [
    {
     "name": "stdout",
     "output_type": "stream",
     "text": [
      "Executed 'Recall on data slice “`Name` contains \"mr\"”' with arguments {'model': <giskard.models.sklearn.SKLearnModel object at 0x106040ac0>, 'dataset': <giskard.datasets.base.Dataset object at 0x10601b1c0>, 'slicing_function': <giskard.slicing.slice.QueryBasedSliceFunction object at 0x2a6b022f0>, 'threshold': 0.6277777777777778}: \n",
      "               Test failed\n",
      "               Metric: 0.02\n",
      "               \n",
      "               \n",
      "Executed 'Recall on data slice “`Sex` == \"male\"”' with arguments {'model': <giskard.models.sklearn.SKLearnModel object at 0x106040ac0>, 'dataset': <giskard.datasets.base.Dataset object at 0x10601b1c0>, 'slicing_function': <giskard.slicing.slice.QueryBasedSliceFunction object at 0x174349060>, 'threshold': 0.6277777777777778}: \n",
      "               Test failed\n",
      "               Metric: 0.11\n",
      "               \n",
      "               \n",
      "Executed 'Precision on data slice “`Pclass` == 3”' with arguments {'model': <giskard.models.sklearn.SKLearnModel object at 0x106040ac0>, 'dataset': <giskard.datasets.base.Dataset object at 0x10601b1c0>, 'slicing_function': <giskard.slicing.slice.QueryBasedSliceFunction object at 0x17434af50>, 'threshold': 0.7156666666666667}: \n",
      "               Test failed\n",
      "               Metric: 0.48\n",
      "               \n",
      "               \n",
      "Executed 'Accuracy on data slice “`Name` contains \"master\"”' with arguments {'model': <giskard.models.sklearn.SKLearnModel object at 0x106040ac0>, 'dataset': <giskard.datasets.base.Dataset object at 0x10601b1c0>, 'slicing_function': <giskard.slicing.slice.QueryBasedSliceFunction object at 0x2a6794bb0>, 'threshold': 0.7476457399103139}: \n",
      "               Test failed\n",
      "               Metric: 0.71\n",
      "               \n",
      "               \n",
      "Executed 'Recall on data slice “`Embarked` == \"S\"”' with arguments {'model': <giskard.models.sklearn.SKLearnModel object at 0x106040ac0>, 'dataset': <giskard.datasets.base.Dataset object at 0x10601b1c0>, 'slicing_function': <giskard.slicing.slice.QueryBasedSliceFunction object at 0x174349990>, 'threshold': 0.6277777777777778}: \n",
      "               Test failed\n",
      "               Metric: 0.61\n",
      "               \n",
      "               \n",
      "Executed 'Accuracy on data slice “`Pclass` == 1”' with arguments {'model': <giskard.models.sklearn.SKLearnModel object at 0x106040ac0>, 'dataset': <giskard.datasets.base.Dataset object at 0x10601b1c0>, 'slicing_function': <giskard.slicing.slice.QueryBasedSliceFunction object at 0x17434af80>, 'threshold': 0.7476457399103139}: \n",
      "               Test failed\n",
      "               Metric: 0.73\n",
      "               \n",
      "               \n",
      "Executed 'Accuracy on data slice “`Name` contains \"miss\"”' with arguments {'model': <giskard.models.sklearn.SKLearnModel object at 0x106040ac0>, 'dataset': <giskard.datasets.base.Dataset object at 0x10601b1c0>, 'slicing_function': <giskard.slicing.slice.QueryBasedSliceFunction object at 0x2a6851b70>, 'threshold': 0.7476457399103139}: \n",
      "               Test failed\n",
      "               Metric: 0.74\n",
      "               \n",
      "               \n",
      "Executed 'Precision on data slice “`Embarked` == \"Q\"”' with arguments {'model': <giskard.models.sklearn.SKLearnModel object at 0x106040ac0>, 'dataset': <giskard.datasets.base.Dataset object at 0x10601b1c0>, 'slicing_function': <giskard.slicing.slice.QueryBasedSliceFunction object at 0x1743495a0>, 'threshold': 0.7156666666666667}: \n",
      "               Test failed\n",
      "               Metric: 0.71\n",
      "               \n",
      "               \n",
      "2023-06-23 13:27:01,535 pid:7224 Thread-11591 (track) urllib3.connectionpool WARNING  Connection pool is full, discarding connection: api.mixpanel.com. Connection pool size: 10\n",
      "2023-06-23 13:27:01,537 pid:7224 Thread-11586 (track) urllib3.connectionpool WARNING  Connection pool is full, discarding connection: api.mixpanel.com. Connection pool size: 10\n",
      "2023-06-23 13:27:01,740 pid:7224 Thread-11670 (track) urllib3.connectionpool WARNING  Connection pool is full, discarding connection: api.mixpanel.com. Connection pool size: 10\n",
      "Executed 'Invariance to “Transform to title case”' with arguments {'model': <giskard.models.sklearn.SKLearnModel object at 0x106040ac0>, 'dataset': <giskard.datasets.base.Dataset object at 0x10601b1c0>, 'transformation_function': <giskard.scanner.robustness.text_transformations.TextTitleCase object at 0x29e6e89a0>, 'threshold': 0.95, 'output_sensitivity': 0.05}: \n",
      "               Test failed\n",
      "               Metric: 0.93\n",
      "                - [TestMessageLevel.INFO] 15 rows were perturbed\n",
      "               \n",
      "Executed 'Overconfidence on data slice “`Name` contains \"mr\"”' with arguments {'model': <giskard.models.sklearn.SKLearnModel object at 0x106040ac0>, 'dataset': <giskard.datasets.base.Dataset object at 0x10601b1c0>, 'slicing_function': <giskard.slicing.slice.QueryBasedSliceFunction object at 0x2a6b02d10>, 'threshold': 0.428421052631579, 'p_threshold': 0.5}: \n",
      "               Test failed\n",
      "               Metric: 0.62\n",
      "               \n",
      "               \n",
      "Executed 'Overconfidence on data slice “`text_length(Name)` < 23.500”' with arguments {'model': <giskard.models.sklearn.SKLearnModel object at 0x106040ac0>, 'dataset': <giskard.datasets.base.Dataset object at 0x10601b1c0>, 'slicing_function': <giskard.slicing.text_slicer.MetadataSliceFunction object at 0x29e689f60>, 'threshold': 0.428421052631579, 'p_threshold': 0.5}: \n",
      "               Test failed\n",
      "               Metric: 0.59\n",
      "               \n",
      "               \n",
      "2023-06-23 13:27:01,908 pid:7224 Thread-11861 (track) urllib3.connectionpool WARNING  Connection pool is full, discarding connection: api.mixpanel.com. Connection pool size: 10\n",
      "2023-06-23 13:27:01,908 pid:7224 Thread-11848 (track) urllib3.connectionpool WARNING  Connection pool is full, discarding connection: api.mixpanel.com. Connection pool size: 10\n",
      "2023-06-23 13:27:01,922 pid:7224 Thread-11885 (track) urllib3.connectionpool WARNING  Connection pool is full, discarding connection: api.mixpanel.com. Connection pool size: 10\n",
      "Executed 'Overconfidence on data slice “`Sex` == \"male\"”' with arguments {'model': <giskard.models.sklearn.SKLearnModel object at 0x106040ac0>, 'dataset': <giskard.datasets.base.Dataset object at 0x10601b1c0>, 'slicing_function': <giskard.slicing.slice.QueryBasedSliceFunction object at 0x2a67969e0>, 'threshold': 0.428421052631579, 'p_threshold': 0.5}: \n",
      "               Test failed\n",
      "               Metric: 0.53\n",
      "               \n",
      "               \n",
      "2023-06-23 13:27:01,922 pid:7224 Thread-11871 (track) urllib3.connectionpool WARNING  Connection pool is full, discarding connection: api.mixpanel.com. Connection pool size: 10\n",
      "2023-06-23 13:27:01,923 pid:7224 Thread-11884 (track) urllib3.connectionpool WARNING  Connection pool is full, discarding connection: api.mixpanel.com. Connection pool size: 10\n",
      "2023-06-23 13:27:01,923 pid:7224 Thread-11870 (track) urllib3.connectionpool WARNING  Connection pool is full, discarding connection: api.mixpanel.com. Connection pool size: 10\n",
      "Executed 'Overconfidence on data slice “`Fare` < 10.490”' with arguments {'model': <giskard.models.sklearn.SKLearnModel object at 0x106040ac0>, 'dataset': <giskard.datasets.base.Dataset object at 0x10601b1c0>, 'slicing_function': <giskard.slicing.slice.QueryBasedSliceFunction object at 0x2a67fed70>, 'threshold': 0.428421052631579, 'p_threshold': 0.5}: \n",
      "               Test failed\n",
      "               Metric: 0.53\n",
      "               \n",
      "               \n",
      "2023-06-23 13:27:01,971 pid:7224 Thread-11916 (track) urllib3.connectionpool WARNING  Connection pool is full, discarding connection: api.mixpanel.com. Connection pool size: 10\n",
      "2023-06-23 13:27:01,972 pid:7224 Thread-11927 (track) urllib3.connectionpool WARNING  Connection pool is full, discarding connection: api.mixpanel.com. Connection pool size: 10\n",
      "2023-06-23 13:27:01,975 pid:7224 Thread-11935 (track) urllib3.connectionpool WARNING  Connection pool is full, discarding connection: api.mixpanel.com. Connection pool size: 10\n",
      "2023-06-23 13:27:02,006 pid:7224 Thread-11966 (track) urllib3.connectionpool WARNING  Connection pool is full, discarding connection: api.mixpanel.com. Connection pool size: 10\n",
      "Executed 'Overconfidence on data slice “`Age` >= 30.500”' with arguments {'model': <giskard.models.sklearn.SKLearnModel object at 0x106040ac0>, 'dataset': <giskard.datasets.base.Dataset object at 0x10601b1c0>, 'slicing_function': <giskard.slicing.slice.QueryBasedSliceFunction object at 0x2a67a6c20>, 'threshold': 0.428421052631579, 'p_threshold': 0.5}: \n",
      "               Test failed\n",
      "               Metric: 0.5\n",
      "               \n",
      "               \n",
      "2023-06-23 13:27:02,006 pid:7224 Thread-11967 (track) urllib3.connectionpool WARNING  Connection pool is full, discarding connection: api.mixpanel.com. Connection pool size: 10\n",
      "2023-06-23 13:27:02,007 pid:7224 Thread-11961 (track) urllib3.connectionpool WARNING  Connection pool is full, discarding connection: api.mixpanel.com. Connection pool size: 10\n",
      "Executed 'Overconfidence on data slice “`avg_whitespace(Name)` < 0.120 AND `avg_whitespace(Name)` >= 0.106”' with arguments {'model': <giskard.models.sklearn.SKLearnModel object at 0x106040ac0>, 'dataset': <giskard.datasets.base.Dataset object at 0x10601b1c0>, 'slicing_function': <giskard.slicing.text_slicer.MetadataSliceFunction object at 0x2a67fc4c0>, 'threshold': 0.428421052631579, 'p_threshold': 0.5}: \n",
      "               Test failed\n",
      "               Metric: 0.48\n",
      "               \n",
      "               \n",
      "2023-06-23 13:27:02,140 pid:7224 Thread-12098 (track) urllib3.connectionpool WARNING  Connection pool is full, discarding connection: api.mixpanel.com. Connection pool size: 10\n",
      "2023-06-23 13:27:02,140 pid:7224 Thread-12105 (track) urllib3.connectionpool WARNING  Connection pool is full, discarding connection: api.mixpanel.com. Connection pool size: 10\n",
      "2023-06-23 13:27:02,141 pid:7224 Thread-12091 (track) urllib3.connectionpool WARNING  Connection pool is full, discarding connection: api.mixpanel.com. Connection pool size: 10\n",
      "Executed 'Overconfidence on data slice “`Parch` < 0.500”' with arguments {'model': <giskard.models.sklearn.SKLearnModel object at 0x106040ac0>, 'dataset': <giskard.datasets.base.Dataset object at 0x10601b1c0>, 'slicing_function': <giskard.slicing.slice.QueryBasedSliceFunction object at 0x2a67a7a60>, 'threshold': 0.428421052631579, 'p_threshold': 0.5}: \n",
      "               Test failed\n",
      "               Metric: 0.48\n",
      "               \n",
      "               \n",
      "2023-06-23 13:27:02,142 pid:7224 Thread-12099 (track) urllib3.connectionpool WARNING  Connection pool is full, discarding connection: api.mixpanel.com. Connection pool size: 10\n",
      "2023-06-23 13:27:02,251 pid:7224 Thread-12238 (track) urllib3.connectionpool WARNING  Connection pool is full, discarding connection: api.mixpanel.com. Connection pool size: 10\n",
      "2023-06-23 13:27:02,252 pid:7224 Thread-12237 (track) urllib3.connectionpool WARNING  Connection pool is full, discarding connection: api.mixpanel.com. Connection pool size: 10\n",
      "Executed 'Overconfidence on data slice “`avg_whitespace(Name)` >= 0.120”' with arguments {'model': <giskard.models.sklearn.SKLearnModel object at 0x106040ac0>, 'dataset': <giskard.datasets.base.Dataset object at 0x10601b1c0>, 'slicing_function': <giskard.slicing.text_slicer.MetadataSliceFunction object at 0x2a4db2dd0>, 'threshold': 0.428421052631579, 'p_threshold': 0.5}: \n",
      "               Test failed\n",
      "               Metric: 0.47\n",
      "               \n",
      "               \n",
      "2023-06-23 13:27:02,252 pid:7224 Thread-12245 (track) urllib3.connectionpool WARNING  Connection pool is full, discarding connection: api.mixpanel.com. Connection pool size: 10\n",
      "2023-06-23 13:27:02,256 pid:7224 Thread-12247 (track) urllib3.connectionpool WARNING  Connection pool is full, discarding connection: api.mixpanel.com. Connection pool size: 10\n",
      "Executed 'Overconfidence on data slice “`SibSp` < 0.500”' with arguments {'model': <giskard.models.sklearn.SKLearnModel object at 0x106040ac0>, 'dataset': <giskard.datasets.base.Dataset object at 0x10601b1c0>, 'slicing_function': <giskard.slicing.slice.QueryBasedSliceFunction object at 0x2a67977f0>, 'threshold': 0.428421052631579, 'p_threshold': 0.5}: \n",
      "               Test failed\n",
      "               Metric: 0.44\n",
      "               \n",
      "               \n",
      "2023-06-23 13:27:02,356 pid:7224 Thread-12350 (track) urllib3.connectionpool WARNING  Connection pool is full, discarding connection: api.mixpanel.com. Connection pool size: 10\n",
      "2023-06-23 13:27:02,392 pid:7224 Thread-12387 (track) urllib3.connectionpool WARNING  Connection pool is full, discarding connection: api.mixpanel.com. Connection pool size: 10\n",
      "2023-06-23 13:27:02,393 pid:7224 Thread-12378 (track) urllib3.connectionpool WARNING  Connection pool is full, discarding connection: api.mixpanel.com. Connection pool size: 10\n",
      "Executed 'Overconfidence on data slice “`text_length(Name)` >= 23.500 AND `text_length(Name)` < 29.500”' with arguments {'model': <giskard.models.sklearn.SKLearnModel object at 0x106040ac0>, 'dataset': <giskard.datasets.base.Dataset object at 0x10601b1c0>, 'slicing_function': <giskard.slicing.text_slicer.MetadataSliceFunction object at 0x2a4db3c70>, 'threshold': 0.428421052631579, 'p_threshold': 0.5}: \n",
      "               Test failed\n",
      "               Metric: 0.43\n",
      "               \n",
      "               \n",
      "2023-06-23 13:27:02,394 pid:7224 Thread-12394 (track) urllib3.connectionpool WARNING  Connection pool is full, discarding connection: api.mixpanel.com. Connection pool size: 10\n",
      "2023-06-23 13:27:02,430 pid:7224 Thread-12425 (track) urllib3.connectionpool WARNING  Connection pool is full, discarding connection: api.mixpanel.com. Connection pool size: 10\n"
     ]
    }
   ],
   "source": [
    "test_suite = results.generate_test_suite(\"My first test suite\")\n",
    "\n",
    "# You can run the test suite locally to verify that it reproduces the issues\n",
    "test_suite_result = test_suite.run()\n"
   ],
   "metadata": {
    "collapsed": false,
    "ExecuteTime": {
     "end_time": "2023-06-23T06:27:02.452372Z",
     "start_time": "2023-06-23T06:27:01.220568Z"
    }
   }
  },
  {
   "cell_type": "code",
   "execution_count": 3,
   "outputs": [
    {
     "name": "stdout",
     "output_type": "stream",
     "text": [
      "2023-06-23 13:27:02,466 pid:7224 Thread-12483 (track) urllib3.connectionpool WARNING  Connection pool is full, discarding connection: api.mixpanel.com. Connection pool size: 10\n",
      "2023-06-23 13:27:02,466 pid:7224 Thread-12481 (track) urllib3.connectionpool WARNING  Connection pool is full, discarding connection: api.mixpanel.com. Connection pool size: 10\n",
      "2023-06-23 13:27:02,467 pid:7224 Thread-12477 (track) urllib3.connectionpool WARNING  Connection pool is full, discarding connection: api.mixpanel.com. Connection pool size: 10\n",
      "2023-06-23 13:27:02,491 pid:7224 Thread-12505 (track) urllib3.connectionpool WARNING  Connection pool is full, discarding connection: api.mixpanel.com. Connection pool size: 10\n",
      "2023-06-23 13:27:02,618 pid:7224 Thread-12700 (track) urllib3.connectionpool WARNING  Connection pool is full, discarding connection: api.mixpanel.com. Connection pool size: 10\n",
      "2023-06-23 13:27:02,619 pid:7224 Thread-12678 (track) urllib3.connectionpool WARNING  Connection pool is full, discarding connection: api.mixpanel.com. Connection pool size: 10\n",
      "2023-06-23 13:27:02,621 pid:7224 Thread-12688 (track) urllib3.connectionpool WARNING  Connection pool is full, discarding connection: api.mixpanel.com. Connection pool size: 10\n",
      "2023-06-23 13:27:02,622 pid:7224 Thread-12704 (track) urllib3.connectionpool WARNING  Connection pool is full, discarding connection: api.mixpanel.com. Connection pool size: 10\n",
      "2023-06-23 13:27:02,624 pid:7224 Thread-12698 (track) urllib3.connectionpool WARNING  Connection pool is full, discarding connection: api.mixpanel.com. Connection pool size: 10\n"
     ]
    },
    {
     "data": {
      "text/plain": "<TestSuiteResult (failed)>",
      "text/html": "\n<style>\n    .alert {\n        padding: 16px;\n        border-radius: 4px;\n        display: flex;\n        align-items: center;\n    }\n\n    .test-result {\n        border-radius: 4px;\n        padding: 0 12px;\n        display: flex;\n        gap: 4px;\n        align-items: center;\n    }\n\n    .alert-error, .test-card-failed .test-result {\n        color: rgb(255, 82, 82);\n        background: rgb(243, 226, 226);\n        fill: currentcolor;\n\n    }\n\n    .test-card-error .test-result {\n        color: #856404;\n        background: #fff3cd;\n        fill: currentcolor;\n    }\n\n    .alert-success, .test-card-passed .test-result {\n        color: rgb(76, 175, 80);\n        background: rgb(226, 243, 226);\n        fill: currentcolor;\n    }\n\n    .alert svg {\n        height: 24px;\n        width: 24px;\n        border-radius: 50%;\n        background: rgba(0, 0, 0, 10%);\n    }\n\n    .test-result svg {\n        height: 16px;\n        width: 16px;\n    }\n\n    .card-container {\n        display: flex;\n        flex-direction: column;\n        gap: 16px;\n        align-items: center;\n    }\n\n    .test-card {\n        border-radius: 4px;\n        border: 1px solid #e0e0e0;\n        background: #fff;\n    }\n\n    .test-card .test-name {\n        color: #000\n    }\n\n    .test-card-row {\n        padding: 10px;\n        display: flex;\n        gap: 20px;\n        align-items: center;\n    }\n\n    .test-card-row:last-child {\n        border-top: 1px solid #dee2e6;\n    }\n\n    .spacer {\n        flex-grow: 1;\n    }\n\n    .test-card-failed .metric {\n        color: #b71c1c;\n    }\n</style>\n\n\n\n\n<div class='dark'>\n    <div id='gsk-suite'>\n        <div class='alert alert-error'>\n  <h4>\n    \n    <svg xmlns='http://www.w3.org/2000/svg' viewBox='0 0 24 24'><title>close</title>\n      <path\n        d='M19,6.41L17.59,5L12,10.59L6.41,5L5,6.41L10.59,12L5,17.59L6.41,19L12,13.41L17.59,19L19,17.59L13.41,12L19,6.41Z' />\n    </svg>\n    \n    Test suite failed\n  </h4>\n</div>\n        <div class='card-container'>\n  \n  <div class='test-card test-card-failed'>\n    <div class='test-card-row'>\n      <span class='test-name'>Test Recall on data slice “`Name` contains &#34;mr&#34;”</span>\n      <div class='spacer'></div>\n      \n      <span class='metric'>Measured <b>Metric = 0.020833333333333332</b></span>\n      \n      <span class='test-result'>\n      \n        <svg xmlns='http://www.w3.org/2000/svg' viewBox='0 0 24 24'><title>close</title>\n          <path\n            d='M19,6.41L17.59,5L12,10.59L6.41,5L5,6.41L10.59,12L5,17.59L6.41,19L12,13.41L17.59,19L19,17.59L13.41,12L19,6.41Z' />\n        </svg>\n        Failed\n      \n    </span>\n    </div>\n    <div class='test-card-row'>\n\n    </div>\n  </div>\n  \n  <div class='test-card test-card-failed'>\n    <div class='test-card-row'>\n      <span class='test-name'>Test Recall on data slice “`Sex` == &#34;male&#34;”</span>\n      <div class='spacer'></div>\n      \n      <span class='metric'>Measured <b>Metric = 0.1111111111111111</b></span>\n      \n      <span class='test-result'>\n      \n        <svg xmlns='http://www.w3.org/2000/svg' viewBox='0 0 24 24'><title>close</title>\n          <path\n            d='M19,6.41L17.59,5L12,10.59L6.41,5L5,6.41L10.59,12L5,17.59L6.41,19L12,13.41L17.59,19L19,17.59L13.41,12L19,6.41Z' />\n        </svg>\n        Failed\n      \n    </span>\n    </div>\n    <div class='test-card-row'>\n\n    </div>\n  </div>\n  \n  <div class='test-card test-card-failed'>\n    <div class='test-card-row'>\n      <span class='test-name'>Test Precision on data slice “`Pclass` == 3”</span>\n      <div class='spacer'></div>\n      \n      <span class='metric'>Measured <b>Metric = 0.47540983606557374</b></span>\n      \n      <span class='test-result'>\n      \n        <svg xmlns='http://www.w3.org/2000/svg' viewBox='0 0 24 24'><title>close</title>\n          <path\n            d='M19,6.41L17.59,5L12,10.59L6.41,5L5,6.41L10.59,12L5,17.59L6.41,19L12,13.41L17.59,19L19,17.59L13.41,12L19,6.41Z' />\n        </svg>\n        Failed\n      \n    </span>\n    </div>\n    <div class='test-card-row'>\n\n    </div>\n  </div>\n  \n  <div class='test-card test-card-failed'>\n    <div class='test-card-row'>\n      <span class='test-name'>Test Accuracy on data slice “`Name` contains &#34;master&#34;”</span>\n      <div class='spacer'></div>\n      \n      <span class='metric'>Measured <b>Metric = 0.7083333333333334</b></span>\n      \n      <span class='test-result'>\n      \n        <svg xmlns='http://www.w3.org/2000/svg' viewBox='0 0 24 24'><title>close</title>\n          <path\n            d='M19,6.41L17.59,5L12,10.59L6.41,5L5,6.41L10.59,12L5,17.59L6.41,19L12,13.41L17.59,19L19,17.59L13.41,12L19,6.41Z' />\n        </svg>\n        Failed\n      \n    </span>\n    </div>\n    <div class='test-card-row'>\n\n    </div>\n  </div>\n  \n  <div class='test-card test-card-failed'>\n    <div class='test-card-row'>\n      <span class='test-name'>Test Recall on data slice “`Embarked` == &#34;S&#34;”</span>\n      <div class='spacer'></div>\n      \n      <span class='metric'>Measured <b>Metric = 0.6111111111111112</b></span>\n      \n      <span class='test-result'>\n      \n        <svg xmlns='http://www.w3.org/2000/svg' viewBox='0 0 24 24'><title>close</title>\n          <path\n            d='M19,6.41L17.59,5L12,10.59L6.41,5L5,6.41L10.59,12L5,17.59L6.41,19L12,13.41L17.59,19L19,17.59L13.41,12L19,6.41Z' />\n        </svg>\n        Failed\n      \n    </span>\n    </div>\n    <div class='test-card-row'>\n\n    </div>\n  </div>\n  \n  <div class='test-card test-card-failed'>\n    <div class='test-card-row'>\n      <span class='test-name'>Test Accuracy on data slice “`Pclass` == 1”</span>\n      <div class='spacer'></div>\n      \n      <span class='metric'>Measured <b>Metric = 0.7333333333333333</b></span>\n      \n      <span class='test-result'>\n      \n        <svg xmlns='http://www.w3.org/2000/svg' viewBox='0 0 24 24'><title>close</title>\n          <path\n            d='M19,6.41L17.59,5L12,10.59L6.41,5L5,6.41L10.59,12L5,17.59L6.41,19L12,13.41L17.59,19L19,17.59L13.41,12L19,6.41Z' />\n        </svg>\n        Failed\n      \n    </span>\n    </div>\n    <div class='test-card-row'>\n\n    </div>\n  </div>\n  \n  <div class='test-card test-card-failed'>\n    <div class='test-card-row'>\n      <span class='test-name'>Test Accuracy on data slice “`Name` contains &#34;miss&#34;”</span>\n      <div class='spacer'></div>\n      \n      <span class='metric'>Measured <b>Metric = 0.7373737373737373</b></span>\n      \n      <span class='test-result'>\n      \n        <svg xmlns='http://www.w3.org/2000/svg' viewBox='0 0 24 24'><title>close</title>\n          <path\n            d='M19,6.41L17.59,5L12,10.59L6.41,5L5,6.41L10.59,12L5,17.59L6.41,19L12,13.41L17.59,19L19,17.59L13.41,12L19,6.41Z' />\n        </svg>\n        Failed\n      \n    </span>\n    </div>\n    <div class='test-card-row'>\n\n    </div>\n  </div>\n  \n  <div class='test-card test-card-failed'>\n    <div class='test-card-row'>\n      <span class='test-name'>Test Precision on data slice “`Embarked` == &#34;Q&#34;”</span>\n      <div class='spacer'></div>\n      \n      <span class='metric'>Measured <b>Metric = 0.7142857142857143</b></span>\n      \n      <span class='test-result'>\n      \n        <svg xmlns='http://www.w3.org/2000/svg' viewBox='0 0 24 24'><title>close</title>\n          <path\n            d='M19,6.41L17.59,5L12,10.59L6.41,5L5,6.41L10.59,12L5,17.59L6.41,19L12,13.41L17.59,19L19,17.59L13.41,12L19,6.41Z' />\n        </svg>\n        Failed\n      \n    </span>\n    </div>\n    <div class='test-card-row'>\n\n    </div>\n  </div>\n  \n  <div class='test-card test-card-failed'>\n    <div class='test-card-row'>\n      <span class='test-name'>Test Invariance to “Transform to title case”</span>\n      <div class='spacer'></div>\n      \n      <span class='metric'>Measured <b>Metric = 0.9333333333333333</b></span>\n      \n      <span class='test-result'>\n      \n        <svg xmlns='http://www.w3.org/2000/svg' viewBox='0 0 24 24'><title>close</title>\n          <path\n            d='M19,6.41L17.59,5L12,10.59L6.41,5L5,6.41L10.59,12L5,17.59L6.41,19L12,13.41L17.59,19L19,17.59L13.41,12L19,6.41Z' />\n        </svg>\n        Failed\n      \n    </span>\n    </div>\n    <div class='test-card-row'>\n\n    </div>\n  </div>\n  \n  <div class='test-card test-card-failed'>\n    <div class='test-card-row'>\n      <span class='test-name'>Test Overconfidence on data slice “`Name` contains &#34;mr&#34;”</span>\n      <div class='spacer'></div>\n      \n      <span class='metric'>Measured <b>Metric = 0.62</b></span>\n      \n      <span class='test-result'>\n      \n        <svg xmlns='http://www.w3.org/2000/svg' viewBox='0 0 24 24'><title>close</title>\n          <path\n            d='M19,6.41L17.59,5L12,10.59L6.41,5L5,6.41L10.59,12L5,17.59L6.41,19L12,13.41L17.59,19L19,17.59L13.41,12L19,6.41Z' />\n        </svg>\n        Failed\n      \n    </span>\n    </div>\n    <div class='test-card-row'>\n\n    </div>\n  </div>\n  \n  <div class='test-card test-card-failed'>\n    <div class='test-card-row'>\n      <span class='test-name'>Test Overconfidence on data slice “`text_length(Name)` &lt; 23.500”</span>\n      <div class='spacer'></div>\n      \n      <span class='metric'>Measured <b>Metric = 0.5882352941176471</b></span>\n      \n      <span class='test-result'>\n      \n        <svg xmlns='http://www.w3.org/2000/svg' viewBox='0 0 24 24'><title>close</title>\n          <path\n            d='M19,6.41L17.59,5L12,10.59L6.41,5L5,6.41L10.59,12L5,17.59L6.41,19L12,13.41L17.59,19L19,17.59L13.41,12L19,6.41Z' />\n        </svg>\n        Failed\n      \n    </span>\n    </div>\n    <div class='test-card-row'>\n\n    </div>\n  </div>\n  \n  <div class='test-card test-card-failed'>\n    <div class='test-card-row'>\n      <span class='test-name'>Test Overconfidence on data slice “`Sex` == &#34;male&#34;”</span>\n      <div class='spacer'></div>\n      \n      <span class='metric'>Measured <b>Metric = 0.5333333333333333</b></span>\n      \n      <span class='test-result'>\n      \n        <svg xmlns='http://www.w3.org/2000/svg' viewBox='0 0 24 24'><title>close</title>\n          <path\n            d='M19,6.41L17.59,5L12,10.59L6.41,5L5,6.41L10.59,12L5,17.59L6.41,19L12,13.41L17.59,19L19,17.59L13.41,12L19,6.41Z' />\n        </svg>\n        Failed\n      \n    </span>\n    </div>\n    <div class='test-card-row'>\n\n    </div>\n  </div>\n  \n  <div class='test-card test-card-failed'>\n    <div class='test-card-row'>\n      <span class='test-name'>Test Overconfidence on data slice “`Fare` &lt; 10.490”</span>\n      <div class='spacer'></div>\n      \n      <span class='metric'>Measured <b>Metric = 0.53125</b></span>\n      \n      <span class='test-result'>\n      \n        <svg xmlns='http://www.w3.org/2000/svg' viewBox='0 0 24 24'><title>close</title>\n          <path\n            d='M19,6.41L17.59,5L12,10.59L6.41,5L5,6.41L10.59,12L5,17.59L6.41,19L12,13.41L17.59,19L19,17.59L13.41,12L19,6.41Z' />\n        </svg>\n        Failed\n      \n    </span>\n    </div>\n    <div class='test-card-row'>\n\n    </div>\n  </div>\n  \n  <div class='test-card test-card-failed'>\n    <div class='test-card-row'>\n      <span class='test-name'>Test Overconfidence on data slice “`Age` &gt;= 30.500”</span>\n      <div class='spacer'></div>\n      \n      <span class='metric'>Measured <b>Metric = 0.5</b></span>\n      \n      <span class='test-result'>\n      \n        <svg xmlns='http://www.w3.org/2000/svg' viewBox='0 0 24 24'><title>close</title>\n          <path\n            d='M19,6.41L17.59,5L12,10.59L6.41,5L5,6.41L10.59,12L5,17.59L6.41,19L12,13.41L17.59,19L19,17.59L13.41,12L19,6.41Z' />\n        </svg>\n        Failed\n      \n    </span>\n    </div>\n    <div class='test-card-row'>\n\n    </div>\n  </div>\n  \n  <div class='test-card test-card-failed'>\n    <div class='test-card-row'>\n      <span class='test-name'>Test Overconfidence on data slice “`avg_whitespace(Name)` &lt; 0.120 AND `avg_whitespace(Name)` &gt;= 0.106”</span>\n      <div class='spacer'></div>\n      \n      <span class='metric'>Measured <b>Metric = 0.4838709677419355</b></span>\n      \n      <span class='test-result'>\n      \n        <svg xmlns='http://www.w3.org/2000/svg' viewBox='0 0 24 24'><title>close</title>\n          <path\n            d='M19,6.41L17.59,5L12,10.59L6.41,5L5,6.41L10.59,12L5,17.59L6.41,19L12,13.41L17.59,19L19,17.59L13.41,12L19,6.41Z' />\n        </svg>\n        Failed\n      \n    </span>\n    </div>\n    <div class='test-card-row'>\n\n    </div>\n  </div>\n  \n  <div class='test-card test-card-failed'>\n    <div class='test-card-row'>\n      <span class='test-name'>Test Overconfidence on data slice “`Parch` &lt; 0.500”</span>\n      <div class='spacer'></div>\n      \n      <span class='metric'>Measured <b>Metric = 0.47692307692307695</b></span>\n      \n      <span class='test-result'>\n      \n        <svg xmlns='http://www.w3.org/2000/svg' viewBox='0 0 24 24'><title>close</title>\n          <path\n            d='M19,6.41L17.59,5L12,10.59L6.41,5L5,6.41L10.59,12L5,17.59L6.41,19L12,13.41L17.59,19L19,17.59L13.41,12L19,6.41Z' />\n        </svg>\n        Failed\n      \n    </span>\n    </div>\n    <div class='test-card-row'>\n\n    </div>\n  </div>\n  \n  <div class='test-card test-card-failed'>\n    <div class='test-card-row'>\n      <span class='test-name'>Test Overconfidence on data slice “`avg_whitespace(Name)` &gt;= 0.120”</span>\n      <div class='spacer'></div>\n      \n      <span class='metric'>Measured <b>Metric = 0.4666666666666667</b></span>\n      \n      <span class='test-result'>\n      \n        <svg xmlns='http://www.w3.org/2000/svg' viewBox='0 0 24 24'><title>close</title>\n          <path\n            d='M19,6.41L17.59,5L12,10.59L6.41,5L5,6.41L10.59,12L5,17.59L6.41,19L12,13.41L17.59,19L19,17.59L13.41,12L19,6.41Z' />\n        </svg>\n        Failed\n      \n    </span>\n    </div>\n    <div class='test-card-row'>\n\n    </div>\n  </div>\n  \n  <div class='test-card test-card-failed'>\n    <div class='test-card-row'>\n      <span class='test-name'>Test Overconfidence on data slice “`SibSp` &lt; 0.500”</span>\n      <div class='spacer'></div>\n      \n      <span class='metric'>Measured <b>Metric = 0.4426229508196721</b></span>\n      \n      <span class='test-result'>\n      \n        <svg xmlns='http://www.w3.org/2000/svg' viewBox='0 0 24 24'><title>close</title>\n          <path\n            d='M19,6.41L17.59,5L12,10.59L6.41,5L5,6.41L10.59,12L5,17.59L6.41,19L12,13.41L17.59,19L19,17.59L13.41,12L19,6.41Z' />\n        </svg>\n        Failed\n      \n    </span>\n    </div>\n    <div class='test-card-row'>\n\n    </div>\n  </div>\n  \n  <div class='test-card test-card-failed'>\n    <div class='test-card-row'>\n      <span class='test-name'>Test Overconfidence on data slice “`text_length(Name)` &gt;= 23.500 AND `text_length(Name)` &lt; 29.500”</span>\n      <div class='spacer'></div>\n      \n      <span class='metric'>Measured <b>Metric = 0.43333333333333335</b></span>\n      \n      <span class='test-result'>\n      \n        <svg xmlns='http://www.w3.org/2000/svg' viewBox='0 0 24 24'><title>close</title>\n          <path\n            d='M19,6.41L17.59,5L12,10.59L6.41,5L5,6.41L10.59,12L5,17.59L6.41,19L12,13.41L17.59,19L19,17.59L13.41,12L19,6.41Z' />\n        </svg>\n        Failed\n      \n    </span>\n    </div>\n    <div class='test-card-row'>\n\n    </div>\n  </div>\n  \n</div>\n    </div>\n</div>\n"
     },
     "metadata": {},
     "output_type": "display_data"
    }
   ],
   "source": [
    "display(test_suite_result)\n"
   ],
   "metadata": {
    "collapsed": false,
    "ExecuteTime": {
     "end_time": "2023-06-23T06:27:02.765139Z",
     "start_time": "2023-06-23T06:27:02.459127Z"
    }
   }
  },
  {
   "cell_type": "code",
   "execution_count": 7,
   "outputs": [
    {
     "data": {
      "text/plain": "['Recall on data slice “`Name` contains \"mr\"”',\n 'Recall on data slice “`Sex` == \"male\"”',\n 'Precision on data slice “`Pclass` == 3”',\n 'Accuracy on data slice “`Name` contains \"master\"”',\n 'Recall on data slice “`Embarked` == \"S\"”',\n 'Accuracy on data slice “`Pclass` == 1”',\n 'Accuracy on data slice “`Name` contains \"miss\"”',\n 'Precision on data slice “`Embarked` == \"Q\"”',\n 'Invariance to “Transform to title case”',\n 'Overconfidence on data slice “`Name` contains \"mr\"”',\n 'Overconfidence on data slice “`text_length(Name)` < 23.500”',\n 'Overconfidence on data slice “`Sex` == \"male\"”',\n 'Overconfidence on data slice “`Fare` < 10.490”',\n 'Overconfidence on data slice “`Age` >= 30.500”',\n 'Overconfidence on data slice “`avg_whitespace(Name)` < 0.120 AND `avg_whitespace(Name)` >= 0.106”',\n 'Overconfidence on data slice “`Parch` < 0.500”',\n 'Overconfidence on data slice “`avg_whitespace(Name)` >= 0.120”',\n 'Overconfidence on data slice “`SibSp` < 0.500”',\n 'Overconfidence on data slice “`text_length(Name)` >= 23.500 AND `text_length(Name)` < 29.500”']"
     },
     "execution_count": 7,
     "metadata": {},
     "output_type": "execute_result"
    },
    {
     "name": "stdout",
     "output_type": "stream",
     "text": [
      "2023-06-23 12:46:24,871 pid:5495 Thread-285700 (track) urllib3.connectionpool WARNING  Connection pool is full, discarding connection: api.mixpanel.com. Connection pool size: 10\n",
      "2023-06-23 12:46:24,872 pid:5495 Thread-285704 (track) urllib3.connectionpool WARNING  Connection pool is full, discarding connection: api.mixpanel.com. Connection pool size: 10\n"
     ]
    }
   ],
   "source": [
    "[i for i, j in test_suite_result.results]\n"
   ],
   "metadata": {
    "collapsed": false,
    "ExecuteTime": {
     "end_time": "2023-06-23T05:46:24.931043Z",
     "start_time": "2023-06-23T05:46:24.853542Z"
    }
   }
  }
 ],
 "metadata": {
  "kernelspec": {
   "display_name": "Python 3",
   "language": "python",
   "name": "python3"
  },
  "language_info": {
   "codemirror_mode": {
    "name": "ipython",
    "version": 2
   },
   "file_extension": ".py",
   "mimetype": "text/x-python",
   "name": "python",
   "nbconvert_exporter": "python",
   "pygments_lexer": "ipython2",
   "version": "2.7.6"
  }
 },
 "nbformat": 4,
 "nbformat_minor": 0
}
