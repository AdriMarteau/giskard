{
 "cells": [
  {
   "cell_type": "code",
   "execution_count": null,
   "id": "initial_id",
   "metadata": {
    "collapsed": true
   },
   "outputs": [],
   "source": []
  },
  {
   "cell_type": "code",
   "execution_count": null,
   "outputs": [],
   "source": [
    "import giskard\n",
    "\n",
    "# Replace this with your own data & model creation.\n",
    "df = giskard.demo.titanic_df()\n",
    "data_preprocessing_function, clf = giskard.demo.titanic_pipeline()\n",
    "\n",
    "# Wrap your Pandas DataFrame\n",
    "giskard_dataset = giskard.Dataset(df=df,\n",
    "                                  target=\"Survived\",\n",
    "                                  name=\"Titanic dataset\",\n",
    "                                  cat_columns=['Pclass', 'Sex', \"SibSp\", \"Parch\", \"Embarked\"])\n",
    "\n",
    "\n",
    "# Wrap your model\n",
    "def prediction_function(df):\n",
    "    preprocessed_df = data_preprocessing_function(df)\n",
    "    return clf.predict_proba(preprocessed_df)\n",
    "\n",
    "\n",
    "giskard_model = giskard.Model(model=prediction_function,\n",
    "                              model_type=\"classification\",\n",
    "                              name=\"Titanic model\",\n",
    "                              classification_labels=clf.classes_,\n",
    "                              feature_names=['PassengerId', 'Pclass', 'Name', 'Sex', 'Age', 'SibSp', 'Parch', 'Fare',\n",
    "                                             'Embarked'])\n",
    "\n",
    "# Then apply the scan\n",
    "results = giskard.scan(giskard_model, giskard_dataset)\n",
    "\n",
    "# Create a Giskard client\n",
    "client = giskard.GiskardClient(\n",
    "    url=\"http://localhost:9000\",  # URL of your Giskard instance\n",
    "    token=\"gsk-xMMDkhjMaeTRWBl5PRXuUj1phfU1\")\n",
    "\n",
    "# Upload an automatically created test suite to the current project ✉️\n",
    "results.generate_test_suite(\"Test suite created by scan\").upload(client, \"test\")\n"
   ],
   "metadata": {
    "collapsed": false,
    "is_executing": true,
    "ExecuteTime": {
     "start_time": "2023-09-05T05:42:09.369729Z"
    }
   },
   "id": "fd7bde5a479364a1"
  }
 ],
 "metadata": {
  "kernelspec": {
   "display_name": "Python 3",
   "language": "python",
   "name": "python3"
  },
  "language_info": {
   "codemirror_mode": {
    "name": "ipython",
    "version": 2
   },
   "file_extension": ".py",
   "mimetype": "text/x-python",
   "name": "python",
   "nbconvert_exporter": "python",
   "pygments_lexer": "ipython2",
   "version": "2.7.6"
  }
 },
 "nbformat": 4,
 "nbformat_minor": 5
}
